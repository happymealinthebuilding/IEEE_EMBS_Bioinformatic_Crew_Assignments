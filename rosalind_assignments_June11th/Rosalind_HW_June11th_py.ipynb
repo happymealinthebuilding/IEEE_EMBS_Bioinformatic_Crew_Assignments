{
  "nbformat": 4,
  "nbformat_minor": 0,
  "metadata": {
    "colab": {
      "provenance": []
    },
    "kernelspec": {
      "name": "python3",
      "display_name": "Python 3"
    },
    "language_info": {
      "name": "python"
    }
  },
  "cells": [
    {
      "cell_type": "code",
      "execution_count": 3,
      "metadata": {
        "colab": {
          "base_uri": "https://localhost:8080/"
        },
        "id": "CbYjGFu7x3id",
        "outputId": "131417d4-f772-4e8c-b3b2-188d754bbaa9"
      },
      "outputs": [
        {
          "output_type": "stream",
          "name": "stdout",
          "text": [
            "Processing A2Z669...\n",
            "Processing B5ZC00...\n",
            "Processing P07204...\n",
            "Processing P20840...\n",
            "\n",
            "--- Results ---\n",
            "B5ZC00\n",
            "85 118 142 306 395\n",
            "P07204\n",
            "47 115 382 409\n",
            "P20840\n",
            "79 109 135 248 306 348 364 402 485 501 614\n"
          ]
        }
      ],
      "source": [
        "import requests\n",
        "import re\n",
        "\n",
        "def get_protein_sequence(uniprot_id):\n",
        "    \"\"\"\n",
        "    Fetches the protein sequence from UniProt in FASTA format.\n",
        "    Handles potential request errors and parses the sequence from FASTA content.\n",
        "    \"\"\"\n",
        "    url = f\"http://www.uniprot.org/uniprot/{uniprot_id}.fasta\"\n",
        "    try:\n",
        "        response = requests.get(url)\n",
        "        response.raise_for_status()  # Raises an HTTPError for bad responses (4xx or 5xx)\n",
        "        fasta_content = response.text\n",
        "        # The first line is the header, so we join all subsequent lines\n",
        "        sequence = \"\".join(fasta_content.splitlines()[1:])\n",
        "        return sequence\n",
        "    except requests.exceptions.RequestException as e:\n",
        "        print(f\"Error fetching sequence for {uniprot_id}: {e}\")\n",
        "        return None\n",
        "\n",
        "def find_n_glycosylation_motif(protein_sequence):\n",
        "    \"\"\"\n",
        "    Finds all locations of the N-glycosylation motif (N{P}[ST]{P}) in a protein sequence.\n",
        "    Returns a list of 1-based starting locations where the motif is found.\n",
        "    \"\"\"\n",
        "    if not protein_sequence:\n",
        "        return []\n",
        "\n",
        "    motif_pattern = r\"N[^P][ST][^P]\"\n",
        "\n",
        "    locations = []\n",
        "    for match in re.finditer(motif_pattern, protein_sequence):\n",
        "        locations.append(match.start() + 1)\n",
        "    return locations\n",
        "\n",
        "def main():\n",
        "    \"\"\"\n",
        "    Main function to process a list of UniProt Protein Database access IDs.\n",
        "    For each protein, it fetches its sequence and identifies all locations\n",
        "    of the N-glycosylation motif, then prints the results.\n",
        "    \"\"\"\n",
        "    # Sample UniProt IDs provided in the problem.\n",
        "    uniprot_ids_input = \"\"\"\n",
        "A2Z669\n",
        "B5ZC00\n",
        "P07204\n",
        "P20840\n",
        "\"\"\"\n",
        "    # Clean and parse the input string into a list of IDs\n",
        "    uniprot_ids = [uid.strip() for uid in uniprot_ids_input.strip().split('\\n') if uid.strip()]\n",
        "\n",
        "    # Dictionary to store results: {uniprot_id: [location1, location2, ...]}\n",
        "    results = {}\n",
        "\n",
        "    for uniprot_id in uniprot_ids:\n",
        "        print(f\"Processing {uniprot_id}...\")\n",
        "        sequence = get_protein_sequence(uniprot_id)\n",
        "        if sequence:\n",
        "            motif_locations = find_n_glycosylation_motif(sequence)\n",
        "            if motif_locations:\n",
        "                results[uniprot_id] = motif_locations\n",
        "\n",
        "    # Output the results in the specified format\n",
        "    print(\"\\n--- Results ---\")\n",
        "    for uniprot_id, locations in results.items():\n",
        "        print(f\"{uniprot_id}\\n{' '.join(map(str, locations))}\")\n",
        "\n",
        "if __name__ == \"__main__\":\n",
        "    main()"
      ]
    }
  ]
}