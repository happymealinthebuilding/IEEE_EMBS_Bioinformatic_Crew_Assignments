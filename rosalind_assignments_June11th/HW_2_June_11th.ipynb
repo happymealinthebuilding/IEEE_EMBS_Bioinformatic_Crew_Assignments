{
  "cells": [
    {
      "cell_type": "code",
      "source": [
        "import collections\n",
        "\n",
        "def translate_rna_to_protein(rna_string):\n",
        "    \"\"\"\n",
        "    Translates an RNA string into a protein string using the standard RNA codon table.\n",
        "\n",
        "    Args:\n",
        "        rna_string (str): The input RNA string (mRNA strand).\n",
        "\n",
        "    Returns:\n",
        "        str: The translated protein string.\n",
        "    \"\"\"\n",
        "\n",
        "    rna_codon_table = {\n",
        "        \"UUU\": \"F\", \"UUC\": \"F\", \"UUA\": \"L\", \"UUG\": \"L\",\n",
        "        \"UCU\": \"S\", \"UCC\": \"S\", \"UCA\": \"S\", \"UCG\": \"S\",\n",
        "        \"UAU\": \"Y\", \"UAC\": \"Y\", \"UAA\": \"Stop\", \"UAG\": \"Stop\",\n",
        "        \"UGU\": \"C\", \"UGC\": \"C\", \"UGA\": \"Stop\", \"UGG\": \"W\",\n",
        "\n",
        "        \"CUU\": \"L\", \"CUC\": \"L\", \"CUA\": \"L\", \"CUG\": \"L\",\n",
        "        \"CCU\": \"P\", \"CCC\": \"P\", \"CCA\": \"P\", \"CCG\": \"P\",\n",
        "        \"CAU\": \"H\", \"CAC\": \"H\", \"CAA\": \"Q\", \"CAG\": \"Q\",\n",
        "        \"CGU\": \"R\", \"CGC\": \"R\", \"CGA\": \"R\", \"CGG\": \"R\",\n",
        "\n",
        "        \"AUU\": \"I\", \"AUC\": \"I\", \"AUA\": \"I\", \"AUG\": \"M\",  # AUG is typically the start codon\n",
        "        \"ACU\": \"T\", \"ACC\": \"T\", \"ACA\": \"T\", \"ACG\": \"T\",\n",
        "        \"AAU\": \"N\", \"AAC\": \"N\", \"AAA\": \"K\", \"AAG\": \"K\",\n",
        "        \"AGU\": \"S\", \"AGC\": \"S\", \"AGA\": \"R\", \"AGG\": \"R\",\n",
        "\n",
        "        \"GUU\": \"V\", \"GUC\": \"V\", \"GUA\": \"V\", \"GUG\": \"V\",\n",
        "        \"GCU\": \"A\", \"GCC\": \"A\", \"GCA\": \"A\", \"GCG\": \"A\",\n",
        "        \"GAU\": \"D\", \"GAC\": \"D\", \"GAA\": \"E\", \"GAG\": \"E\",\n",
        "        \"GGU\": \"G\", \"GGC\": \"G\", \"GGA\": \"G\", \"GGG\": \"G\"\n",
        "    }\n",
        "\n",
        "    protein_sequence = []\n",
        "    for i in range(0, len(rna_string), 3):\n",
        "        codon = rna_string[i:i+3] # Extract the current 3-nucleotide codon.\n",
        "\n",
        "        if len(codon) == 3:\n",
        "            amino_acid = rna_codon_table.get(codon) # Look up the amino acid in the table.\n",
        "\n",
        "            if amino_acid == \"Stop\":\n",
        "                # If a 'Stop' codon is encountered, translation terminates.\n",
        "                break\n",
        "            elif amino_acid:\n",
        "                # If a valid amino acid is found (not None and not 'Stop'), add it to the sequence.\n",
        "                protein_sequence.append(amino_acid)\n",
        "            else:\n",
        "                # Handle cases where a codon might not be in the table (e.g., invalid RNA string).\n",
        "                # In a real scenario, you might raise an error or log a warning.\n",
        "                # For this task, we'll just skip it.\n",
        "                print(f\"Warning: Unknown codon '{codon}' found. Skipping.\")\n",
        "        else:\n",
        "            # This handles cases where the RNA string length is not a multiple of 3.\n",
        "            # The remaining nucleotides at the end cannot form a complete codon.\n",
        "            print(f\"Warning: Incomplete codon '{codon}' at the end of the RNA string. Ignoring.\")\n",
        "\n",
        "    # Join the list of amino acids into a single protein string and return it.\n",
        "    return \"\".join(protein_sequence)\n",
        "\n",
        "# Sample Dataset from the problem description\n",
        "sample_rna = \"AUGGCCAUGGCGCCCAGAACUGAGAUCAAUAGUACCCGUAUUAACGGGUGA\"\n",
        "\n",
        "# Translate the sample RNA string\n",
        "translated_protein = translate_rna_to_protein(sample_rna)\n",
        "\n",
        "# Print the result\n",
        "print(f\"Input RNA string: {sample_rna}\")\n",
        "print(f\"Translated protein string: {translated_protein}\")"
      ],
      "outputs": [
        {
          "output_type": "stream",
          "name": "stdout",
          "text": [
            "Input RNA string: AUGGCCAUGGCGCCCAGAACUGAGAUCAAUAGUACCCGUAUUAACGGGUGA\n",
            "Translated protein string: MAMAPRTEINSTRING\n"
          ]
        }
      ],
      "execution_count": 1,
      "metadata": {
        "colab": {
          "base_uri": "https://localhost:8080/"
        },
        "id": "2hedCnnhzeja",
        "outputId": "c7e80422-249f-4777-ffb3-a520d9e3d15f"
      }
    }
  ],
  "metadata": {
    "colab": {
      "provenance": []
    },
    "kernelspec": {
      "display_name": "Python 3",
      "name": "python3"
    }
  },
  "nbformat": 4,
  "nbformat_minor": 0
}